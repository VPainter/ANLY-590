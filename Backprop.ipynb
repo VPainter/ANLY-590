{
 "cells": [
  {
   "cell_type": "code",
   "execution_count": 1,
   "metadata": {
    "id": "c2rFRzKiRaak"
   },
   "outputs": [],
   "source": [
    "import numpy as np\n",
    "from math import pi as Pi\n",
    "import matplotlib.cm as cm\n",
    "import matplotlib.pyplot as plt\n",
    "%matplotlib inline\n",
    "import random"
   ]
  },
  {
   "cell_type": "markdown",
   "metadata": {
    "id": "UkV0FfRWRaa4"
   },
   "source": [
    "## Computing the Gradient of a Loss Function\n",
    "\n",
    "### OLS Regression\n",
    "\n",
    "Recall our example model of simple OLS regression. Let's create a dataset of this nature and then fit our model using gradient descent."
   ]
  },
  {
   "cell_type": "code",
   "execution_count": 2,
   "metadata": {
    "id": "QXXyBoweRaa7"
   },
   "outputs": [],
   "source": [
    "x = 2*np.random.randn(50)\n",
    "y = 4*x -2 + 3*np.random.randn(len(x))"
   ]
  },
  {
   "cell_type": "code",
   "execution_count": 3,
   "metadata": {
    "colab": {
     "base_uri": "https://localhost:8080/",
     "height": 300
    },
    "id": "riKtYKCwRabE",
    "outputId": "f5de11b7-821c-4361-d4d9-d005b6fd13d0"
   },
   "outputs": [
    {
     "data": {
      "text/plain": [
       "Text(0.5, 0, 'X')"
      ]
     },
     "execution_count": 3,
     "metadata": {},
     "output_type": "execute_result"
    },
    {
     "data": {
      "image/png": "[encoded data removed]",
      "text/plain": [
       "<Figure size 432x288 with 1 Axes>"
      ]
     },
     "metadata": {
      "needs_background": "light"
     },
     "output_type": "display_data"
    }
   ],
   "source": [
    "plt.plot(x,y, '.')\n",
    "plt.ylabel(\"Y\")\n",
    "plt.xlabel(\"X\")"
   ]
  },
  {
   "cell_type": "markdown",
   "metadata": {
    "id": "hS3L5vV5RabO"
   },
   "source": [
    "First, let's use the analytical solution and verify that we can recover the correct regression coefficients."
   ]
  },
  {
   "cell_type": "code",
   "execution_count": 4,
   "metadata": {
    "id": "7SwFqhsQRabP"
   },
   "outputs": [],
   "source": [
    "X = np.transpose(np.array([np.ones(len(x)), x]))"
   ]
  },
  {
   "cell_type": "code",
   "execution_count": 5,
   "metadata": {
    "colab": {
     "base_uri": "https://localhost:8080/",
     "height": 52
    },
    "id": "hEai9cUFRabZ",
    "outputId": "a712715e-fada-4579-faa0-949fed1ca435"
   },
   "outputs": [
    {
     "data": {
      "text/plain": [
       "array([[-1.96202014],\n",
       "       [ 4.00560309]])"
      ]
     },
     "execution_count": 5,
     "metadata": {},
     "output_type": "execute_result"
    }
   ],
   "source": [
    "np.matmul(np.matmul(np.linalg.inv( np.matmul(np.transpose(X) , X)), np.transpose(X)), y.reshape(len(x),1))"
   ]
  },
  {
   "cell_type": "markdown",
   "metadata": {
    "id": "jZo3CMf0Rabg"
   },
   "source": [
    "Next, we'll use gradient descent to estimate the model coefficients. This is exactly the same process we've use before with finding the minima of other functions. This time, we'll compute the gradient as we derived in the lecture notes."
   ]
  },
  {
   "cell_type": "code",
   "execution_count": 6,
   "metadata": {
    "id": "QNUxNySERabj"
   },
   "outputs": [],
   "source": [
    "def loss(y, y_hat):\n",
    "    # Root Mean Squared loss metric\n",
    "    return np.sqrt(np.average((y-y_hat)**2))\n",
    "\n",
    "def ols_yhat(x,y,coeffs):\n",
    "    # returns model prediction for simple OLS regressor\n",
    "    beta_0, beta_1 = coeffs\n",
    "    return beta_0 + beta_1 * x"
   ]
  },
  {
   "cell_type": "code",
   "execution_count": 7,
   "metadata": {
    "id": "LKTs9kVYRabr"
   },
   "outputs": [],
   "source": [
    "def grad_descent(x, y, starting_point=None, iterations=10, learning_rate=1e-1):\n",
    "    \"\"\"\n",
    "    Estimate the coefficients of simple regression model using gradient descent.\n",
    "    model: y = beta_0 + beta_1*X\n",
    "    \n",
    "    Args\n",
    "        x (np.array) \n",
    "        y (np.array)\n",
    "        starting_point (tuple2) initialization point for gradient descent\n",
    "        iterations (int) number of iterations before stopping\n",
    "        learning_rate (float) \n",
    "        \n",
    "    \n",
    "    Returns\n",
    "        (np.array) trajectory through parameter space towards minimum\n",
    "        (np.array) total loss metric throughout gradient descent iterations\n",
    "    \"\"\"\n",
    "    if starting_point:\n",
    "        point = starting_point\n",
    "    else:\n",
    "        point = np.random.uniform(-10,10,size=2)\n",
    "    trajectory = [point]\n",
    "    losses = [loss(y, ols_yhat(x,y,point))]\n",
    "    \n",
    "    for i in range(iterations):\n",
    "        grad = grad_f(point, x, y)\n",
    "        point = point - learning_rate * grad\n",
    "        trajectory.append(point)\n",
    "        losses.append(loss(y, ols_yhat(x,y,point)))\n",
    "    return (np.array(trajectory), losses)"
   ]
  },
  {
   "cell_type": "code",
   "execution_count": 8,
   "metadata": {
    "id": "PhBdDOsaRab1"
   },
   "outputs": [],
   "source": [
    "def grad_f(vector, x, y):\n",
    "    \"\"\"\n",
    "    Computes local gradient vector for squared-error loss on OLS regression model cofficients\n",
    "    \"\"\"\n",
    "    beta_0, beta_1 = vector\n",
    "    y_hat = ols_yhat(x, y, vector) \n",
    "    residuals = (y - y_hat)\n",
    "\n",
    "    dL_dbeta_0 =  - 2*np.average(residuals)\n",
    "    dL_dbeta_1 =  - 2*np.average(residuals*x)\n",
    "    \n",
    "    return np.array([dL_dbeta_0, dL_dbeta_1])"
   ]
  },
  {
   "cell_type": "code",
   "execution_count": 9,
   "metadata": {
    "id": "wZ0DiFVgRab7"
   },
   "outputs": [],
   "source": [
    "#np.random.seed(10)\n",
    "traj, losses = grad_descent(x, y, iterations=20,learning_rate=1e-1)"
   ]
  },
  {
   "cell_type": "code",
   "execution_count": 10,
   "metadata": {
    "colab": {
     "base_uri": "https://localhost:8080/",
     "height": 301
    },
    "id": "6KE59GFzRacD",
    "outputId": "780b05ff-b403-4e15-fe2f-c324feef7253"
   },
   "outputs": [
    {
     "data": {
      "text/plain": [
       "Text(0, 0.5, 'beta_1')"
      ]
     },
     "execution_count": 10,
     "metadata": {},
     "output_type": "execute_result"
    },
    {
     "data": {
      "image/png": "[encoded data removed]",
      "text/plain": [
       "<Figure size 432x288 with 1 Axes>"
      ]
     },
     "metadata": {
      "needs_background": "light"
     },
     "output_type": "display_data"
    }
   ],
   "source": [
    "x= traj[:,0]\n",
    "y= traj[:,1]\n",
    "plt.plot(x,y,'-o')\n",
    "plt.xlim(-10,10)\n",
    "plt.ylim(-10,10)\n",
    "plt.xlabel(\"beta_0\")\n",
    "plt.ylabel(\"beta_1\")"
   ]
  },
  {
   "cell_type": "code",
   "execution_count": 11,
   "metadata": {
    "colab": {
     "base_uri": "https://localhost:8080/",
     "height": 300
    },
    "id": "aDZc2pKPRacL",
    "outputId": "93c435f4-66db-4aa8-81d8-262438e54781"
   },
   "outputs": [
    {
     "data": {
      "text/plain": [
       "Text(0.5, 0, 'Iteration')"
      ]
     },
     "execution_count": 11,
     "metadata": {},
     "output_type": "execute_result"
    },
    {
     "data": {
      "image/png": "[encoded data removed]",
      "text/plain": [
       "<Figure size 432x288 with 1 Axes>"
      ]
     },
     "metadata": {
      "needs_background": "light"
     },
     "output_type": "display_data"
    }
   ],
   "source": [
    "plt.plot(losses)\n",
    "plt.ylabel(\"RMS Error\")\n",
    "plt.xlabel(\"Iteration\")"
   ]
  },
  {
   "cell_type": "markdown",
   "metadata": {
    "collapsed": true,
    "id": "ZSFBKMQgRacR"
   },
   "source": [
    "Note that optimizing this function was extremely similar to what we've done before. We simply need to iteratively compute the gradient vector, and then walk in the opposite direction of that gradient vector, and we will walk toward the minimum of the Loss surface. \n",
    "\n",
    "The differences are:\n",
    "1.   We don't have an expression for the total Loss surface (well, we *could* because it is simple OLS regression, but let's ignore that). Instead, we walk \"blindly\" down the hill until our algorithms terminates.\n",
    "2. Our expression for the gradient vector - it look us a little bit of algebra to get there, but it is still simple enough to compute at each iteration."
   ]
  },
  {
   "cell_type": "markdown",
   "metadata": {
    "id": "sEMPG8eHRacU"
   },
   "source": [
    "### Simple Neural Network - Regression\n",
    "\n",
    "Now let's turn to a more interesting example. Again, all the components are similar to above and the only difference is the algebra and calculus that leads us to our gradient calculation. We're going to create a network for non-linear regression, so let's create some synthetic noisy data drawn from an unknown continuous curve."
   ]
  },
  {
   "cell_type": "code",
   "execution_count": 12,
   "metadata": {
    "id": "bxJLNtjhRacV"
   },
   "outputs": [],
   "source": [
    "np.random.seed(1)\n",
    "x = np.sort(np.random.uniform(-5,5,20))\n",
    "y = .5 * (-np.sin((Pi * (x))/6) + 1+ .1*np.random.randn(len(x)))"
   ]
  },
  {
   "cell_type": "code",
   "execution_count": 13,
   "metadata": {
    "colab": {
     "base_uri": "https://localhost:8080/",
     "height": 286
    },
    "id": "JVGZ1NjBRacc",
    "outputId": "33833bd4-ffae-4a8e-f5d2-82c993bf90ad"
   },
   "outputs": [
    {
     "data": {
      "text/plain": [
       "[<matplotlib.lines.Line2D at 0x25b27498c88>]"
      ]
     },
     "execution_count": 13,
     "metadata": {},
     "output_type": "execute_result"
    },
    {
     "data": {
      "image/png": "[encoded data removed]",
      "text/plain": [
       "<Figure size 432x288 with 1 Axes>"
      ]
     },
     "metadata": {
      "needs_background": "light"
     },
     "output_type": "display_data"
    }
   ],
   "source": [
    "plt.plot(x,y, 'o')"
   ]
  },
  {
   "cell_type": "code",
   "execution_count": 14,
   "metadata": {
    "id": "szpX8tU1Racj"
   },
   "outputs": [],
   "source": [
    "\n",
    "def loss(y, y_hat):\n",
    "    # Root Mean Squared loss metric\n",
    "    return np.sqrt(np.average((y-y_hat)**2))\n",
    "\n",
    "def sigmoid(x):\n",
    "    return 1/(1+np.exp(-x))\n",
    "\n",
    "def sigmoid_derivative(x):\n",
    "    pass\n",
    "\n",
    "def yhat(x, param_vector):\n",
    "    # returns model prediction \n",
    "    pass\n",
    "\n"
   ]
  },
  {
   "cell_type": "code",
   "execution_count": 15,
   "metadata": {
    "id": "y7WVwuL92k21"
   },
   "outputs": [
    {
     "ename": "TypeError",
     "evalue": "unsupported operand type(s) for -: 'NoneType' and 'float'",
     "output_type": "error",
     "traceback": [
      "\u001b[1;31m---------------------------------------------------------------------------\u001b[0m",
      "\u001b[1;31mTypeError\u001b[0m                                 Traceback (most recent call last)",
      "\u001b[1;32m<ipython-input-15-3ff7ae526ebb>\u001b[0m in \u001b[0;36m<module>\u001b[1;34m\u001b[0m\n\u001b[0;32m      4\u001b[0m     \u001b[0msigmoid_derivative\u001b[0m\u001b[1;33m(\u001b[0m\u001b[0mX\u001b[0m\u001b[1;33m)\u001b[0m\u001b[1;33m,\u001b[0m\u001b[1;33m\u001b[0m\u001b[1;33m\u001b[0m\u001b[0m\n\u001b[0;32m      5\u001b[0m     \u001b[0mnp\u001b[0m\u001b[1;33m.\u001b[0m\u001b[0marray\u001b[0m\u001b[1;33m(\u001b[0m\u001b[1;33m[\u001b[0m\u001b[1;36m0.2\u001b[0m\u001b[1;33m,\u001b[0m \u001b[1;36m0.1\u001b[0m\u001b[1;33m,\u001b[0m \u001b[1;36m0.04\u001b[0m\u001b[1;33m]\u001b[0m\u001b[1;33m)\u001b[0m\u001b[1;33m,\u001b[0m\u001b[1;33m\u001b[0m\u001b[1;33m\u001b[0m\u001b[0m\n\u001b[1;32m----> 6\u001b[1;33m     decimal=1)\n\u001b[0m\u001b[0;32m      7\u001b[0m \u001b[1;33m\u001b[0m\u001b[0m\n\u001b[0;32m      8\u001b[0m \u001b[1;33m\u001b[0m\u001b[0m\n",
      "\u001b[1;32mD:\\Anaconda\\Lib\\site-packages\\numpy\\testing\\_private\\utils.py\u001b[0m in \u001b[0;36massert_almost_equal\u001b[1;34m(actual, desired, decimal, err_msg, verbose)\u001b[0m\n\u001b[0;32m    570\u001b[0m     \u001b[1;32mif\u001b[0m \u001b[0misinstance\u001b[0m\u001b[1;33m(\u001b[0m\u001b[0mactual\u001b[0m\u001b[1;33m,\u001b[0m \u001b[1;33m(\u001b[0m\u001b[0mndarray\u001b[0m\u001b[1;33m,\u001b[0m \u001b[0mtuple\u001b[0m\u001b[1;33m,\u001b[0m \u001b[0mlist\u001b[0m\u001b[1;33m)\u001b[0m\u001b[1;33m)\u001b[0m\u001b[0;31m \u001b[0m\u001b[0;31m\\\u001b[0m\u001b[1;33m\u001b[0m\u001b[1;33m\u001b[0m\u001b[0m\n\u001b[0;32m    571\u001b[0m             \u001b[1;32mor\u001b[0m \u001b[0misinstance\u001b[0m\u001b[1;33m(\u001b[0m\u001b[0mdesired\u001b[0m\u001b[1;33m,\u001b[0m \u001b[1;33m(\u001b[0m\u001b[0mndarray\u001b[0m\u001b[1;33m,\u001b[0m \u001b[0mtuple\u001b[0m\u001b[1;33m,\u001b[0m \u001b[0mlist\u001b[0m\u001b[1;33m)\u001b[0m\u001b[1;33m)\u001b[0m\u001b[1;33m:\u001b[0m\u001b[1;33m\u001b[0m\u001b[1;33m\u001b[0m\u001b[0m\n\u001b[1;32m--> 572\u001b[1;33m         \u001b[1;32mreturn\u001b[0m \u001b[0massert_array_almost_equal\u001b[0m\u001b[1;33m(\u001b[0m\u001b[0mactual\u001b[0m\u001b[1;33m,\u001b[0m \u001b[0mdesired\u001b[0m\u001b[1;33m,\u001b[0m \u001b[0mdecimal\u001b[0m\u001b[1;33m,\u001b[0m \u001b[0merr_msg\u001b[0m\u001b[1;33m)\u001b[0m\u001b[1;33m\u001b[0m\u001b[1;33m\u001b[0m\u001b[0m\n\u001b[0m\u001b[0;32m    573\u001b[0m     \u001b[1;32mtry\u001b[0m\u001b[1;33m:\u001b[0m\u001b[1;33m\u001b[0m\u001b[1;33m\u001b[0m\u001b[0m\n\u001b[0;32m    574\u001b[0m         \u001b[1;31m# If one of desired/actual is not finite, handle it specially here:\u001b[0m\u001b[1;33m\u001b[0m\u001b[1;33m\u001b[0m\u001b[1;33m\u001b[0m\u001b[0m\n",
      "\u001b[1;32mD:\\Anaconda\\Lib\\site-packages\\numpy\\testing\\_private\\utils.py\u001b[0m in \u001b[0;36massert_array_almost_equal\u001b[1;34m(x, y, decimal, err_msg, verbose)\u001b[0m\n\u001b[0;32m   1013\u001b[0m     assert_array_compare(compare, x, y, err_msg=err_msg, verbose=verbose,\n\u001b[0;32m   1014\u001b[0m              \u001b[0mheader\u001b[0m\u001b[1;33m=\u001b[0m\u001b[1;33m(\u001b[0m\u001b[1;34m'Arrays are not almost equal to %d decimals'\u001b[0m \u001b[1;33m%\u001b[0m \u001b[0mdecimal\u001b[0m\u001b[1;33m)\u001b[0m\u001b[1;33m,\u001b[0m\u001b[1;33m\u001b[0m\u001b[1;33m\u001b[0m\u001b[0m\n\u001b[1;32m-> 1015\u001b[1;33m              precision=decimal)\n\u001b[0m\u001b[0;32m   1016\u001b[0m \u001b[1;33m\u001b[0m\u001b[0m\n\u001b[0;32m   1017\u001b[0m \u001b[1;33m\u001b[0m\u001b[0m\n",
      "\u001b[1;32mD:\\Anaconda\\Lib\\site-packages\\numpy\\testing\\_private\\utils.py\u001b[0m in \u001b[0;36massert_array_compare\u001b[1;34m(comparison, x, y, err_msg, verbose, header, precision, equal_nan, equal_inf)\u001b[0m\n\u001b[0;32m    779\u001b[0m             \u001b[1;32mreturn\u001b[0m\u001b[1;33m\u001b[0m\u001b[1;33m\u001b[0m\u001b[0m\n\u001b[0;32m    780\u001b[0m \u001b[1;33m\u001b[0m\u001b[0m\n\u001b[1;32m--> 781\u001b[1;33m         \u001b[0mval\u001b[0m \u001b[1;33m=\u001b[0m \u001b[0mcomparison\u001b[0m\u001b[1;33m(\u001b[0m\u001b[0mx\u001b[0m\u001b[1;33m,\u001b[0m \u001b[0my\u001b[0m\u001b[1;33m)\u001b[0m\u001b[1;33m\u001b[0m\u001b[1;33m\u001b[0m\u001b[0m\n\u001b[0m\u001b[0;32m    782\u001b[0m \u001b[1;33m\u001b[0m\u001b[0m\n\u001b[0;32m    783\u001b[0m         \u001b[1;32mif\u001b[0m \u001b[0misinstance\u001b[0m\u001b[1;33m(\u001b[0m\u001b[0mval\u001b[0m\u001b[1;33m,\u001b[0m \u001b[0mbool\u001b[0m\u001b[1;33m)\u001b[0m\u001b[1;33m:\u001b[0m\u001b[1;33m\u001b[0m\u001b[1;33m\u001b[0m\u001b[0m\n",
      "\u001b[1;32mD:\\Anaconda\\Lib\\site-packages\\numpy\\testing\\_private\\utils.py\u001b[0m in \u001b[0;36mcompare\u001b[1;34m(x, y)\u001b[0m\n\u001b[0;32m   1004\u001b[0m         \u001b[0mdtype\u001b[0m \u001b[1;33m=\u001b[0m \u001b[0mresult_type\u001b[0m\u001b[1;33m(\u001b[0m\u001b[0my\u001b[0m\u001b[1;33m,\u001b[0m \u001b[1;36m1.\u001b[0m\u001b[1;33m)\u001b[0m\u001b[1;33m\u001b[0m\u001b[1;33m\u001b[0m\u001b[0m\n\u001b[0;32m   1005\u001b[0m         \u001b[0my\u001b[0m \u001b[1;33m=\u001b[0m \u001b[0marray\u001b[0m\u001b[1;33m(\u001b[0m\u001b[0my\u001b[0m\u001b[1;33m,\u001b[0m \u001b[0mdtype\u001b[0m\u001b[1;33m=\u001b[0m\u001b[0mdtype\u001b[0m\u001b[1;33m,\u001b[0m \u001b[0mcopy\u001b[0m\u001b[1;33m=\u001b[0m\u001b[1;32mFalse\u001b[0m\u001b[1;33m,\u001b[0m \u001b[0msubok\u001b[0m\u001b[1;33m=\u001b[0m\u001b[1;32mTrue\u001b[0m\u001b[1;33m)\u001b[0m\u001b[1;33m\u001b[0m\u001b[1;33m\u001b[0m\u001b[0m\n\u001b[1;32m-> 1006\u001b[1;33m         \u001b[0mz\u001b[0m \u001b[1;33m=\u001b[0m \u001b[0mabs\u001b[0m\u001b[1;33m(\u001b[0m\u001b[0mx\u001b[0m \u001b[1;33m-\u001b[0m \u001b[0my\u001b[0m\u001b[1;33m)\u001b[0m\u001b[1;33m\u001b[0m\u001b[1;33m\u001b[0m\u001b[0m\n\u001b[0m\u001b[0;32m   1007\u001b[0m \u001b[1;33m\u001b[0m\u001b[0m\n\u001b[0;32m   1008\u001b[0m         \u001b[1;32mif\u001b[0m \u001b[1;32mnot\u001b[0m \u001b[0missubdtype\u001b[0m\u001b[1;33m(\u001b[0m\u001b[0mz\u001b[0m\u001b[1;33m.\u001b[0m\u001b[0mdtype\u001b[0m\u001b[1;33m,\u001b[0m \u001b[0mnumber\u001b[0m\u001b[1;33m)\u001b[0m\u001b[1;33m:\u001b[0m\u001b[1;33m\u001b[0m\u001b[1;33m\u001b[0m\u001b[0m\n",
      "\u001b[1;31mTypeError\u001b[0m: unsupported operand type(s) for -: 'NoneType' and 'float'"
     ]
    }
   ],
   "source": [
    "X = np.array([1,2,3])\n",
    "\n",
    "np.testing.assert_almost_equal(\n",
    "    sigmoid_derivative(X),\n",
    "    np.array([0.2, 0.1, 0.04]),\n",
    "    decimal=1)\n",
    "\n",
    "\n",
    "np.testing.assert_almost_equal(\n",
    "    yhat(X, np.array([1,1,1,1,1])),\n",
    "    np.array([2.4, 2.7, 2.9]),\n",
    "    decimal=1)\n",
    "\n",
    "np.testing.assert_almost_equal(\n",
    "    yhat(X, np.array([-1,-1,-1,-1,-1])),\n",
    "    np.array([-1.5, -1.2, -1.09]),\n",
    "    decimal=1)\n"
   ]
  },
  {
   "cell_type": "code",
   "execution_count": null,
   "metadata": {
    "id": "1-LZrLIJRaco"
   },
   "outputs": [],
   "source": [
    "def grad_f(param_vector, x, y):\n",
    "    \"\"\"\n",
    "    Computes local gradient vector for squared-error loss on model parameters\n",
    "    \"\"\"\n",
    "    w1, w2, w3, w4, b = param_vector\n",
    "    prediction = yhat(x, y, vector)\n",
    "    residuals = y - prediction\n",
    "    \n",
    "    dL_dw1 = -np.average(x*residuals*w3*sigmoid_derivative(w1*x))\n",
    "    dL_dw2 = -np.average(x*residuals*w2*sigmoid_derivative(w2*x))\n",
    "    dL_dw3 = -np.average(sigmoid(w1*x) * residuals)\n",
    "    dL_dw4 = -np.average(sigmoid(w2*x) * residuals)\n",
    "    \n",
    "    return np.array([dL_dw1, dL_dw2, dL_dw3, dL_dw4, dL_db])"
   ]
  },
  {
   "cell_type": "code",
   "execution_count": null,
   "metadata": {
    "id": "cLrHBlm_Racv"
   },
   "outputs": [],
   "source": [
    "def grad_descent(x, y, starting_point=None, iterations=10, learning_rate=1e-2):\n",
    "    if starting_point:\n",
    "        point = starting_point\n",
    "    else:\n",
    "        point = np.random.uniform(-1,1,size=5).astype(\"float128\")\n",
    "    trajectory = [point]\n",
    "    losses = [loss(y, yhat(x,y,point))]\n",
    "    \n",
    "    for i in range(iterations):\n",
    "        grad = grad_f(point, x, y)\n",
    "        point = point - learning_rate * grad\n",
    "        trajectory.append(point)\n",
    "        losses.append(loss(y, yhat(x,y,point)))\n",
    "    return (np.array(trajectory), losses)"
   ]
  },
  {
   "cell_type": "code",
   "execution_count": null,
   "metadata": {
    "id": "qcKy7v_yRac1"
   },
   "outputs": [],
   "source": [
    "traj, losses = grad_descent(x, y, iterations=250,learning_rate=1e-3)"
   ]
  },
  {
   "cell_type": "code",
   "execution_count": null,
   "metadata": {
    "id": "5fgMi14CA4Bi"
   },
   "outputs": [],
   "source": []
  },
  {
   "cell_type": "code",
   "execution_count": null,
   "metadata": {
    "colab": {
     "base_uri": "https://localhost:8080/",
     "height": 300
    },
    "id": "KiglmgQcRac8",
    "outputId": "39068224-9f5b-4ad7-d8a4-643f8ac6c8fd"
   },
   "outputs": [
    {
     "data": {
      "text/plain": [
       "Text(0.5,0,'Iteration')"
      ]
     },
     "execution_count": 29,
     "metadata": {
      "tags": []
     },
     "output_type": "execute_result"
    },
    {
     "data": {
      "image/png": "[encoded data removed]",
      "text/plain": [
       "<Figure size 432x288 with 1 Axes>"
      ]
     },
     "metadata": {
      "tags": []
     },
     "output_type": "display_data"
    }
   ],
   "source": [
    "plt.plot(losses,'o')\n",
    "plt.ylabel(\"RMS Error\")\n",
    "plt.xlabel(\"Iteration\")"
   ]
  },
  {
   "cell_type": "code",
   "execution_count": null,
   "metadata": {
    "colab": {
     "base_uri": "https://localhost:8080/",
     "height": 286
    },
    "id": "tTly2A0FRadB",
    "outputId": "a2100920-f8c8-4706-ecb7-36708b212b46"
   },
   "outputs": [
    {
     "data": {
      "text/plain": [
       "[<matplotlib.lines.Line2D at 0x7efda5222d90>]"
      ]
     },
     "execution_count": 30,
     "metadata": {
      "tags": []
     },
     "output_type": "execute_result"
    },
    {
     "data": {
      "image/png": "[encoded data removed]",
      "text/plain": [
       "<Figure size 432x288 with 1 Axes>"
      ]
     },
     "metadata": {
      "tags": []
     },
     "output_type": "display_data"
    }
   ],
   "source": [
    "plt.plot(x, yhat(x,y,traj[250]),'-')\n",
    "plt.plot(x,y, 'o')"
   ]
  },
  {
   "cell_type": "markdown",
   "metadata": {
    "collapsed": true,
    "id": "Z-q9xLZMRadI"
   },
   "source": [
    "## Exercise - Classification\n",
    "\n",
    "We're going to code a binary classifier for 2D input data. \n",
    "\n",
    "Consider the network shown in Figure 6.2 in Goodfellow. If we include all bias terms, this network will have 9 free parameters.\n",
    "\n",
    "1. Derive the update rules (gradient) for each of the weights and biases for the network in Figure 6.2. Use sigmoid activation units (or ReLU units if you'd prefer). You can either derive each partial derivtive individually, or rely on the generic forumla we discussed.\n",
    "\n",
    "2. Write a new function grad_f() for this kind of network.\n",
    "\n",
    "3. Verify that you can fit the simple Gaussian dataset below, make a plot of the Loss throughout training. "
   ]
  },
  {
   "cell_type": "markdown",
   "metadata": {
    "id": "svVb7g18RadK"
   },
   "source": [
    "#### Gaussians Dataset"
   ]
  },
  {
   "cell_type": "code",
   "execution_count": null,
   "metadata": {
    "id": "rB_j4c42RadM",
    "outputId": "4002b6ca-a2e4-4080-819e-154098395a08"
   },
   "outputs": [
    {
     "data": {
      "text/plain": [
       "<matplotlib.collections.PathCollection at 0x1058a0650>"
      ]
     },
     "execution_count": 20,
     "metadata": {
      "tags": []
     },
     "output_type": "execute_result"
    },
    {
     "data": {
      "image/png": "[encoded data removed]",
      "text/plain": [
       "<matplotlib.figure.Figure at 0x10569b690>"
      ]
     },
     "metadata": {
      "tags": []
     },
     "output_type": "display_data"
    }
   ],
   "source": [
    "x = np.concatenate(\n",
    "    (np.random.multivariate_normal(mean=[-3,-3],cov=[[1,0],[0,2]],size = 500),\n",
    "    np.random.multivariate_normal(mean=[3,3],cov=[[1,0],[0,2]],size = 500)))\n",
    "y = np.zeros(1000)\n",
    "y[:500] = 1\n",
    "plt.scatter(x[:,0], x[:,1], c=y)"
   ]
  },
  {
   "cell_type": "code",
   "execution_count": null,
   "metadata": {
    "id": "esDHbTd7Radf"
   },
   "outputs": [],
   "source": []
  }
 ],
 "metadata": {
  "colab": {
   "name": "Lab 4 - Backprop.ipynb",
   "provenance": []
  },
  "kernelspec": {
   "display_name": "Python 3",
   "language": "python",
   "name": "python3"
  },
  "language_info": {
   "codemirror_mode": {
    "name": "ipython",
    "version": 3
   },
   "file_extension": ".py",
   "mimetype": "text/x-python",
   "name": "python",
   "nbconvert_exporter": "python",
   "pygments_lexer": "ipython3",
   "version": "3.7.3"
  }
 },
 "nbformat": 4,
 "nbformat_minor": 1
}
