{
 "cells": [
  {
   "cell_type": "code",
   "execution_count": 1,
   "metadata": {
    "id": "jS47B8K0JLkx"
   },
   "outputs": [],
   "source": [
    "import tensorflow as tf\n",
    "import tensorflow.keras as tfk\n",
    "import tensorflow.keras.layers as tfkl\n",
    "import numpy as np\n",
    "import matplotlib.pyplot as plt"
   ]
  },
  {
   "cell_type": "markdown",
   "metadata": {
    "id": "iehoGWa6SSWU"
   },
   "source": [
    "### regression\n",
    "\n",
    "Let's start by using `keras` to make a neural network for a simple regression task where both the input and the output as 1-dimensional. Below is some code that will produce the dataset for you to train on.\n",
    "\n",
    "Here are some general steps to follow:\n",
    "1. Define your model by passing `tfk.Sequential` a list of layers (found in `tf.keras.layers`, which is already imported for you by the shorter name `tfkl`, since you will use this module many times.\n",
    "2. Your first layers should be a `tfkl.Input` layer that specifies the shape of the input (it will automatically include an empty first dimension with size `None` as a placehold for the batch size).\n",
    "3. The rest of your layers should be `tfkl.Dense` layers; you will be to specify the number of neurons/units as well as the activation function (you can find those in `tf.nn`, and you can use `None` for a \"linear\" activation function, $f(x)=x$). Make sure you pick an output function that makes sense for this prediction task!\n",
    "4. Choose an appropriate optimizer from `tfk.optimizers` and an appropriate loss function from `tfk.losses` (both are classes that wil need to be initialized), and then pass them to `model.compile` to compile your model.\n",
    "5. Call `model.fit` to fit your model and collect the results\n",
    "6. Plot your training curve (loss vs training step)\n",
    "7. Call your model (`model(...)`) on a grid of inputs (code to make the grid provided) and plot the relationship your model learned against the true relationship (defined as `f` in the code below)."
   ]
  },
  {
   "cell_type": "code",
   "execution_count": 2,
   "metadata": {
    "id": "HDgsWoAKJbxz"
   },
   "outputs": [
    {
     "data": {
      "image/png": "[encoded data removed]",
      "text/plain": [
       "<Figure size 432x288 with 1 Axes>"
      ]
     },
     "metadata": {
      "needs_background": "light"
     },
     "output_type": "display_data"
    }
   ],
   "source": [
    "def regression_data(N):\n",
    "  x = np.random.uniform(low=-5.0, high=5.0, size=(N, 1)).astype(np.float32)\n",
    "  e = 0.2 * np.random.normal(size=(N, 1)).astype(np.float32)\n",
    "  f = lambda x: 0.2 * x**2 * np.sin(2 * np.pi * x / 6)\n",
    "  y = f(x) + e\n",
    "  return x, y\n",
    "\n",
    "N = 100\n",
    "x, y = regression_data(N)\n",
    "x_train, y_train=regression_data(100)\n",
    "x_test, y_test=regression_data(100)\n",
    "\n",
    "plt.scatter(x, y, s=10)\n",
    "plt.show()"
   ]
  },
  {
   "cell_type": "code",
   "execution_count": 3,
   "metadata": {
    "id": "vBzgG7E0KmFR"
   },
   "outputs": [
    {
     "name": "stdout",
     "output_type": "stream",
     "text": [
      "Model: \"sequential\"\n",
      "_________________________________________________________________\n",
      "Layer (type)                 Output Shape              Param #   \n",
      "=================================================================\n",
      "dense (Dense)                (None, 100)               200       \n",
      "_________________________________________________________________\n",
      "dense_1 (Dense)              (None, 20)                2020      \n",
      "_________________________________________________________________\n",
      "dense_2 (Dense)              (None, 1)                 21        \n",
      "=================================================================\n",
      "Total params: 2,241\n",
      "Trainable params: 2,241\n",
      "Non-trainable params: 0\n",
      "_________________________________________________________________\n",
      "Epoch 1/10000\n",
      "100/100 [==============================] - 0s 1ms/step - loss: 2.2752 - val_loss: 1.6194\n",
      "Epoch 2/10000\n",
      "100/100 [==============================] - 0s 429us/step - loss: 1.3884 - val_loss: 1.1128\n",
      "Epoch 3/10000\n",
      "100/100 [==============================] - 0s 419us/step - loss: 0.8411 - val_loss: 0.5794\n",
      "Epoch 4/10000\n",
      "100/100 [==============================] - 0s 409us/step - loss: 0.3817 - val_loss: 0.2203\n",
      "Epoch 5/10000\n",
      "100/100 [==============================] - 0s 409us/step - loss: 0.1485 - val_loss: 0.0984\n",
      "Epoch 6/10000\n",
      "100/100 [==============================] - 0s 419us/step - loss: 0.0801 - val_loss: 0.0654\n",
      "Epoch 7/10000\n",
      "100/100 [==============================] - 0s 429us/step - loss: 0.0592 - val_loss: 0.0535\n",
      "Epoch 8/10000\n",
      "100/100 [==============================] - 0s 429us/step - loss: 0.0516 - val_loss: 0.0490\n",
      "Epoch 9/10000\n",
      "100/100 [==============================] - 0s 419us/step - loss: 0.0484 - val_loss: 0.0469\n",
      "Model: \"sequential\"\n",
      "_________________________________________________________________\n",
      "Layer (type)                 Output Shape              Param #   \n",
      "=================================================================\n",
      "dense (Dense)                (None, 100)               200       \n",
      "_________________________________________________________________\n",
      "dense_1 (Dense)              (None, 20)                2020      \n",
      "_________________________________________________________________\n",
      "dense_2 (Dense)              (None, 1)                 21        \n",
      "=================================================================\n",
      "Total params: 2,241\n",
      "Trainable params: 2,241\n",
      "Non-trainable params: 0\n",
      "_________________________________________________________________\n"
     ]
    }
   ],
   "source": [
    "# your code here\n",
    "a=tf.nn.relu\n",
    "model=tfk.Sequential([\n",
    "    tfkl.Input((1,)),\n",
    "    tfkl.Dense(100,activation=a),\n",
    "    tfkl.Dense(20,activation=a),\n",
    "    tfkl.Dense(1,activation=None)\n",
    "])\n",
    "\n",
    "model.summary()\n",
    "\n",
    "cbs=[tfk.callbacks.EarlyStopping(min_delta=0.01, patience=2)]\n",
    "\n",
    "ds_train =tf.data.Dataset.from_tensor_slices((x_train,y_train)).batch(32).repeat().prefetch(10)\n",
    "ds_test =tf.data.Dataset.from_tensor_slices((x_train,y_train)).batch(100).repeat().prefetch(10)\n",
    "\n",
    "loss=tfk.losses.MeanSquaredError()\n",
    "opt=tfk.optimizers.Adam()\n",
    "model.compile(opt,loss)\n",
    "\n",
    "results=model.fit(ds_train,steps_per_epoch=100, epochs=10000, callbacks=cbs, validation_data=ds_test, validation_steps=1)\n",
    "model.summary()\n"
   ]
  },
  {
   "cell_type": "code",
   "execution_count": 4,
   "metadata": {},
   "outputs": [
    {
     "data": {
      "text/plain": [
       "[<matplotlib.lines.Line2D at 0x1d9538910f0>]"
      ]
     },
     "execution_count": 4,
     "metadata": {},
     "output_type": "execute_result"
    },
    {
     "data": {
      "image/png": "[encoded data removed]",
      "text/plain": [
       "<Figure size 432x288 with 1 Axes>"
      ]
     },
     "metadata": {
      "needs_background": "light"
     },
     "output_type": "display_data"
    }
   ],
   "source": [
    "plt.plot(results.history['loss'])\n",
    "plt.plot(results.history['val_loss'])"
   ]
  },
  {
   "cell_type": "code",
   "execution_count": 5,
   "metadata": {
    "id": "pULO0BniMAL2"
   },
   "outputs": [
    {
     "data": {
      "text/plain": [
       "<matplotlib.legend.Legend at 0x1d95c3de320>"
      ]
     },
     "execution_count": 5,
     "metadata": {},
     "output_type": "execute_result"
    },
    {
     "data": {
      "image/png": "[encoded data removed]",
      "text/plain": [
       "<Figure size 432x288 with 1 Axes>"
      ]
     },
     "metadata": {
      "needs_background": "light"
     },
     "output_type": "display_data"
    }
   ],
   "source": [
    "f = lambda x: 0.2 * x**2 * np.sin(2 * np.pi * x / 6)\n",
    "\n",
    "x_grid = np.linspace(x.min(), x.max(), 200).astype(np.float32)[:, np.newaxis]\n",
    "y_true = f(x_grid)\n",
    "# your code here\n",
    "y_hat = model(x_grid)\n",
    "\n",
    "plt.scatter(x,y,s=10)\n",
    "plt.plot([],[])\n",
    "plt.plot(x_grid, y_true,label = \"true\")\n",
    "plt.plot(x_grid, y_hat,label = \"hat\")\n",
    "plt.legend()\n"
   ]
  },
  {
   "cell_type": "markdown",
   "metadata": {
    "id": "Dc59MczHVrc9"
   },
   "source": [
    "### binary classification\n",
    "\n",
    "Here is another dataset that differs in two key ways from the regression example we just worked:\n",
    "1. The input is now 2-dimensional\n",
    "2. The targets are now binary classes\n",
    "\n",
    "Update your model to handle both of these changes and try fitting this new data. Think about the following:\n",
    "- input shape\n",
    "- output function\n",
    "- loss function\n",
    "\n",
    "Since visualizing the results is a bit tricky, we have provided some code for that."
   ]
  },
  {
   "cell_type": "code",
   "execution_count": 6,
   "metadata": {
    "id": "NMg8n9NRGo_9"
   },
   "outputs": [
    {
     "data": {
      "image/png": "[encoded data removed]",
      "text/plain": [
       "<Figure size 504x504 with 1 Axes>"
      ]
     },
     "metadata": {
      "needs_background": "light"
     },
     "output_type": "display_data"
    }
   ],
   "source": [
    "N = 200\n",
    "def binary_classification_data(N):\n",
    "  x = np.random.uniform(low=-5, high=5, size=(N, 2))\n",
    "  y = (x[:, 0] * x[:, 1] > 0).astype(np.int)\n",
    "  return x, y\n",
    "\n",
    "x_train, y_train = binary_classification_data(N)\n",
    "x_test, y_test = binary_classification_data(N)\n",
    "\n",
    "plt.figure(figsize=(7, 7))\n",
    "plt.scatter(x_train[:, 0], x_train[:, 1], s=10, c=y_train, cmap='coolwarm')\n",
    "plt.show()"
   ]
  },
  {
   "cell_type": "code",
   "execution_count": 7,
   "metadata": {
    "id": "t4P6Ez3VJzQk"
   },
   "outputs": [
    {
     "name": "stdout",
     "output_type": "stream",
     "text": [
      "Model: \"sequential_1\"\n",
      "_________________________________________________________________\n",
      "Layer (type)                 Output Shape              Param #   \n",
      "=================================================================\n",
      "dense_3 (Dense)              (None, 100)               300       \n",
      "_________________________________________________________________\n",
      "dense_4 (Dense)              (None, 20)                2020      \n",
      "_________________________________________________________________\n",
      "dense_5 (Dense)              (None, 1)                 21        \n",
      "=================================================================\n",
      "Total params: 2,341\n",
      "Trainable params: 2,341\n",
      "Non-trainable params: 0\n",
      "_________________________________________________________________\n",
      "Epoch 1/10000\n",
      "100/100 [==============================] - 0s 888us/step - loss: 0.6376 - val_loss: 0.4965\n",
      "Epoch 2/10000\n",
      "100/100 [==============================] - 0s 469us/step - loss: 0.3622 - val_loss: 0.2801\n",
      "Epoch 3/10000\n",
      "100/100 [==============================] - 0s 479us/step - loss: 0.2192 - val_loss: 0.1879\n",
      "Epoch 4/10000\n",
      "100/100 [==============================] - 0s 479us/step - loss: 0.1528 - val_loss: 0.1348\n",
      "Epoch 5/10000\n",
      "100/100 [==============================] - 0s 469us/step - loss: 0.1108 - val_loss: 0.1017\n",
      "Epoch 6/10000\n",
      "100/100 [==============================] - 0s 469us/step - loss: 0.0845 - val_loss: 0.0810\n",
      "Epoch 7/10000\n",
      "100/100 [==============================] - 0s 479us/step - loss: 0.0676 - val_loss: 0.0672\n",
      "Epoch 8/10000\n",
      "100/100 [==============================] - 0s 479us/step - loss: 0.0556 - val_loss: 0.0571\n",
      "Epoch 9/10000\n",
      "100/100 [==============================] - 0s 469us/step - loss: 0.0473 - val_loss: 0.0494\n",
      "Epoch 10/10000\n",
      "100/100 [==============================] - 0s 489us/step - loss: 0.0401 - val_loss: 0.0434\n",
      "Epoch 11/10000\n",
      "100/100 [==============================] - 0s 479us/step - loss: 0.0354 - val_loss: 0.0390\n",
      "Epoch 12/10000\n",
      "100/100 [==============================] - 0s 469us/step - loss: 0.0309 - val_loss: 0.0350\n"
     ]
    }
   ],
   "source": [
    "# your code here\n",
    "a = tf.nn.softplus\n",
    "\n",
    "model = tfk.Sequential([\n",
    "    tfkl.Input((2,)),\n",
    "    tfkl.Dense(100, activation = a),\n",
    "    tfkl.Dense(20, activation = a),\n",
    "    tfkl.Dense(1, activation = tf.nn.sigmoid)\n",
    "])\n",
    "model.summary()\n",
    "\n",
    "model.compile(optimizer = tfk.optimizers.Adam(), loss = tfk.losses.BinaryCrossentropy())\n",
    "\n",
    "ds_train =tf.data.Dataset.from_tensor_slices((x_train,y_train)).batch(32).repeat().prefetch(10)\n",
    "ds_test =tf.data.Dataset.from_tensor_slices((x_train,y_train)).batch(100).repeat().prefetch(10)\n",
    "\n",
    "result=model.fit(ds_train,steps_per_epoch=100, epochs=10000, callbacks=cbs, validation_data=ds_test, validation_steps=1)"
   ]
  },
  {
   "cell_type": "code",
   "execution_count": 8,
   "metadata": {
    "id": "5ZUclc8PKqEC"
   },
   "outputs": [
    {
     "data": {
      "image/png": "[encoded data removed]",
      "text/plain": [
       "<Figure size 432x288 with 2 Axes>"
      ]
     },
     "metadata": {
      "needs_background": "light"
     },
     "output_type": "display_data"
    }
   ],
   "source": [
    "def binary_preds(model, x_minmax=5):\n",
    "  x_grid = np.linspace(-x_minmax, x_minmax, 100)\n",
    "  mesh = np.meshgrid(x_grid, x_grid)\n",
    "  xs_grid = np.stack(mesh, axis=-1)\n",
    "  yhat = model(xs_grid).numpy().squeeze()\n",
    "\n",
    "\n",
    "  plt.imshow(yhat, cmap='coolwarm')\n",
    "  plt.colorbar()\n",
    "\n",
    "binary_preds(model)"
   ]
  },
  {
   "cell_type": "markdown",
   "metadata": {
    "id": "f6NPT8dsWWXW"
   },
   "source": [
    "### general classfication\n",
    "\n",
    "Finally we will download and train on some real data to learn about general classification. Here is some code that will download and show some metadata about the MNIST dataset -- a collectin of handwritten digits.\n",
    "\n",
    "Update your model to work on this data so that you model can predict the digit from its image. One new thing to keep in mind: these inputs are 2D. Later in the course we will learn about convolutional neural nets for handing such inputs more naturally, but for now, update your `tfkl.Input` layer to be 2-dimensional and then add a `tfkl.Flatten()` layer right after it to unravel the 2-d image into a 1-d vector of pixels.\n",
    "\n",
    "Again, visualalizing the output is a bit tricky, so we have provided some code to help."
   ]
  },
  {
   "cell_type": "code",
   "execution_count": 10,
   "metadata": {
    "id": "TQl7DZmBNvm_"
   },
   "outputs": [
    {
     "name": "stdout",
     "output_type": "stream",
     "text": [
      "\u001b[1mDownloading and preparing dataset mnist/3.0.1 (download: Unknown size, generated: Unknown size, total: Unknown size) to C:\\Users\\gnaij\\tensorflow_datasets\\mnist\\3.0.1...\u001b[0m\n"
     ]
    },
    {
     "data": {
      "application/vnd.jupyter.widget-view+json": {
       "model_id": "f021b5c9193a45e1897bcf9603d08982",
       "version_major": 2,
       "version_minor": 0
      },
      "text/plain": [
       "HBox(children=(HTML(value='Dl Completed...'), FloatProgress(value=1.0, bar_style='info', layout=Layout(width='…"
      ]
     },
     "metadata": {},
     "output_type": "display_data"
    },
    {
     "data": {
      "application/vnd.jupyter.widget-view+json": {
       "model_id": "3e8e1832457e40b59406fb56f9bd23c8",
       "version_major": 2,
       "version_minor": 0
      },
      "text/plain": [
       "HBox(children=(HTML(value='Dl Size...'), FloatProgress(value=1.0, bar_style='info', layout=Layout(width='20px'…"
      ]
     },
     "metadata": {},
     "output_type": "display_data"
    },
    {
     "data": {
      "application/vnd.jupyter.widget-view+json": {
       "model_id": "ff50844b1aeb411c8161ed26ffbd49e8",
       "version_major": 2,
       "version_minor": 0
      },
      "text/plain": [
       "HBox(children=(HTML(value='Extraction completed...'), FloatProgress(value=1.0, bar_style='info', layout=Layout…"
      ]
     },
     "metadata": {},
     "output_type": "display_data"
    },
    {
     "name": "stdout",
     "output_type": "stream",
     "text": [
      "\n",
      "\n",
      "\n",
      "\n",
      "\n",
      "\n"
     ]
    },
    {
     "data": {
      "application/vnd.jupyter.widget-view+json": {
       "model_id": "",
       "version_major": 2,
       "version_minor": 0
      },
      "text/plain": [
       "HBox(children=(HTML(value=''), FloatProgress(value=1.0, bar_style='info', layout=Layout(width='20px'), max=1.0…"
      ]
     },
     "metadata": {},
     "output_type": "display_data"
    },
    {
     "name": "stdout",
     "output_type": "stream",
     "text": [
      "Shuffling and writing examples to C:\\Users\\gnaij\\tensorflow_datasets\\mnist\\3.0.1.incompleteKQGYCW\\mnist-train.tfrecord\n"
     ]
    },
    {
     "data": {
      "application/vnd.jupyter.widget-view+json": {
       "model_id": "1e8ed0ecd1fa443b97c8a94e2c11b073",
       "version_major": 2,
       "version_minor": 0
      },
      "text/plain": [
       "HBox(children=(HTML(value=''), FloatProgress(value=0.0, max=60000.0), HTML(value='')))"
      ]
     },
     "metadata": {},
     "output_type": "display_data"
    },
    {
     "data": {
      "application/vnd.jupyter.widget-view+json": {
       "model_id": "",
       "version_major": 2,
       "version_minor": 0
      },
      "text/plain": [
       "HBox(children=(HTML(value=''), FloatProgress(value=1.0, bar_style='info', layout=Layout(width='20px'), max=1.0…"
      ]
     },
     "metadata": {},
     "output_type": "display_data"
    },
    {
     "name": "stdout",
     "output_type": "stream",
     "text": [
      "Shuffling and writing examples to C:\\Users\\gnaij\\tensorflow_datasets\\mnist\\3.0.1.incompleteKQGYCW\\mnist-test.tfrecord\n"
     ]
    },
    {
     "data": {
      "application/vnd.jupyter.widget-view+json": {
       "model_id": "bd047adecfcc42c084450ad2bcb7acef",
       "version_major": 2,
       "version_minor": 0
      },
      "text/plain": [
       "HBox(children=(HTML(value=''), FloatProgress(value=0.0, max=10000.0), HTML(value='')))"
      ]
     },
     "metadata": {},
     "output_type": "display_data"
    },
    {
     "name": "stdout",
     "output_type": "stream",
     "text": [
      "\u001b[1mDataset mnist downloaded and prepared to C:\\Users\\gnaij\\tensorflow_datasets\\mnist\\3.0.1. Subsequent calls will reuse this data.\u001b[0m\n",
      "tfds.core.DatasetInfo(\n",
      "    name='mnist',\n",
      "    version=3.0.1,\n",
      "    description='The MNIST database of handwritten digits.',\n",
      "    homepage='http://yann.lecun.com/exdb/mnist/',\n",
      "    features=FeaturesDict({\n",
      "        'image': Image(shape=(28, 28, 1), dtype=tf.uint8),\n",
      "        'label': ClassLabel(shape=(), dtype=tf.int64, num_classes=10),\n",
      "    }),\n",
      "    total_num_examples=70000,\n",
      "    splits={\n",
      "        'test': 10000,\n",
      "        'train': 60000,\n",
      "    },\n",
      "    supervised_keys=('image', 'label'),\n",
      "    citation=\"\"\"@article{lecun2010mnist,\n",
      "      title={MNIST handwritten digit database},\n",
      "      author={LeCun, Yann and Cortes, Corinna and Burges, CJ},\n",
      "      journal={ATT Labs [Online]. Available: http://yann.lecun.com/exdb/mnist},\n",
      "      volume={2},\n",
      "      year={2010}\n",
      "    }\"\"\",\n",
      "    redistribution_info=,\n",
      ")\n",
      "\n"
     ]
    }
   ],
   "source": [
    "import tensorflow_datasets as tfds\n",
    "\n",
    "ds, metadata = tfds.load('mnist', with_info=True)\n",
    "print(metadata)"
   ]
  },
  {
   "cell_type": "code",
   "execution_count": 11,
   "metadata": {
    "id": "bKre0z2HOCDm"
   },
   "outputs": [
    {
     "name": "stdout",
     "output_type": "stream",
     "text": [
      "Model: \"sequential_2\"\n",
      "_________________________________________________________________\n",
      "Layer (type)                 Output Shape              Param #   \n",
      "=================================================================\n",
      "flatten (Flatten)            (None, 784)               0         \n",
      "_________________________________________________________________\n",
      "dense_6 (Dense)              (None, 100)               78500     \n",
      "_________________________________________________________________\n",
      "dense_7 (Dense)              (None, 20)                2020      \n",
      "_________________________________________________________________\n",
      "dense_8 (Dense)              (None, 10)                210       \n",
      "=================================================================\n",
      "Total params: 80,730\n",
      "Trainable params: 80,730\n",
      "Non-trainable params: 0\n",
      "_________________________________________________________________\n",
      "Epoch 1/1000\n",
      "100/100 [==============================] - 1s 7ms/step - loss: 1.2357 - val_loss: 0.5834\n",
      "Epoch 2/1000\n",
      "100/100 [==============================] - 0s 977us/step - loss: 0.5046 - val_loss: 0.4271\n",
      "Epoch 3/1000\n",
      "100/100 [==============================] - 0s 908us/step - loss: 0.3954 - val_loss: 0.3604\n",
      "Epoch 4/1000\n",
      "100/100 [==============================] - 0s 908us/step - loss: 0.3569 - val_loss: 0.3359\n",
      "Epoch 5/1000\n",
      "100/100 [==============================] - 0s 908us/step - loss: 0.3253 - val_loss: 0.2996\n",
      "Epoch 6/1000\n",
      "100/100 [==============================] - 0s 918us/step - loss: 0.3067 - val_loss: 0.3092\n"
     ]
    }
   ],
   "source": [
    "a = tf.nn.softplus\n",
    "\n",
    "model = tfk.Sequential([\n",
    "    tfkl.Input((28,28,1)),\n",
    "    tfkl.Flatten(),\n",
    "    tfkl.Dense(100, activation = a),\n",
    "    tfkl.Dense(20, activation = a),\n",
    "    tfkl.Dense(10, activation = tf.nn.softmax)\n",
    "])\n",
    "model.summary()\n",
    "\n",
    "model.compile(optimizer = tfk.optimizers.Adam(), loss = tfk.losses.SparseCategoricalCrossentropy())\n",
    "\n",
    "cbs=[tfk.callbacks.EarlyStopping(min_delta=0.01, patience=1)]\n",
    "\n",
    "preprocess = lambda d: (tf.cast(d['image'], tf.float32)/255., d['label'])\n",
    "\n",
    "ds_train = ds['train'].map(preprocess).cache().batch(32).repeat().prefetch(10)\n",
    "ds_test = ds['test'].take(1000).map(preprocess).cache().batch(1000).repeat().prefetch(10)\n",
    "\n",
    "result=model.fit(ds_train,steps_per_epoch=100,\n",
    "                 epochs=1000, callbacks=cbs, \n",
    "                 validation_data=ds_test, validation_steps=1)"
   ]
  },
  {
   "cell_type": "code",
   "execution_count": 12,
   "metadata": {
    "id": "oJ17dcdQOt_w"
   },
   "outputs": [
    {
     "data": {
      "image/png": "[encoded data removed]",
      "text/plain": [
       "<Figure size 720x2880 with 2 Axes>"
      ]
     },
     "metadata": {
      "needs_background": "light"
     },
     "output_type": "display_data"
    },
    {
     "data": {
      "image/png": "[encoded data removed]",
      "text/plain": [
       "<Figure size 432x288 with 2 Axes>"
      ]
     },
     "metadata": {
      "needs_background": "light"
     },
     "output_type": "display_data"
    },
    {
     "data": {
      "image/png": "[encoded data removed]",
      "text/plain": [
       "<Figure size 432x288 with 2 Axes>"
      ]
     },
     "metadata": {
      "needs_background": "light"
     },
     "output_type": "display_data"
    },
    {
     "data": {
      "image/png": "[encoded data removed]",
      "text/plain": [
       "<Figure size 432x288 with 2 Axes>"
      ]
     },
     "metadata": {
      "needs_background": "light"
     },
     "output_type": "display_data"
    },
    {
     "data": {
      "image/png": "[encoded data removed]",
      "text/plain": [
       "<Figure size 432x288 with 2 Axes>"
      ]
     },
     "metadata": {
      "needs_background": "light"
     },
     "output_type": "display_data"
    },
    {
     "data": {
      "image/png": "[encoded data removed]",
      "text/plain": [
       "<Figure size 432x288 with 2 Axes>"
      ]
     },
     "metadata": {
      "needs_background": "light"
     },
     "output_type": "display_data"
    },
    {
     "data": {
      "image/png": "[encoded data removed]",
      "text/plain": [
       "<Figure size 432x288 with 2 Axes>"
      ]
     },
     "metadata": {
      "needs_background": "light"
     },
     "output_type": "display_data"
    },
    {
     "data": {
      "image/png": "[encoded data removed]",
      "text/plain": [
       "<Figure size 432x288 with 2 Axes>"
      ]
     },
     "metadata": {
      "needs_background": "light"
     },
     "output_type": "display_data"
    },
    {
     "data": {
      "image/png": "[encoded data removed]",
      "text/plain": [
       "<Figure size 432x288 with 2 Axes>"
      ]
     },
     "metadata": {
      "needs_background": "light"
     },
     "output_type": "display_data"
    },
    {
     "data": {
      "image/png": "[encoded data removed]",
      "text/plain": [
       "<Figure size 432x288 with 2 Axes>"
      ]
     },
     "metadata": {
      "needs_background": "light"
     },
     "output_type": "display_data"
    }
   ],
   "source": [
    "def mnist_viz(model):\n",
    "    ims, labels = next(iter(ds['test'].map(preprocess).batch(10)))\n",
    "    yhat = model(ims)\n",
    "    ypred = tf.argmax(yhat)\n",
    "\n",
    "    plt.figure(figsize=(10, 40))\n",
    "    for i in range(10):\n",
    "        plt.subplot(10, 2, 2*i+1)\n",
    "        plt.imshow(ims[i].numpy().squeeze(), cmap='bone')\n",
    "        plt.subplot(10, 2, 2*i+2)\n",
    "        plt.bar(np.arange(10), yhat[i].numpy())\n",
    "        plt.ylim([0, 1])\n",
    "        plt.show()\n",
    "\n",
    "# your code here\n",
    "mnist_viz(model)"
   ]
  },
  {
   "cell_type": "code",
   "execution_count": null,
   "metadata": {},
   "outputs": [],
   "source": []
  }
 ],
 "metadata": {
  "accelerator": "TPU",
  "colab": {
   "name": "Copy of keras-lab.ipynb",
   "provenance": []
  },
  "kernelspec": {
   "display_name": "Python 3",
   "language": "python",
   "name": "python3"
  },
  "language_info": {
   "codemirror_mode": {
    "name": "ipython",
    "version": 3
   },
   "file_extension": ".py",
   "mimetype": "text/x-python",
   "name": "python",
   "nbconvert_exporter": "python",
   "pygments_lexer": "ipython3",
   "version": "3.7.3"
  }
 },
 "nbformat": 4,
 "nbformat_minor": 1
}
